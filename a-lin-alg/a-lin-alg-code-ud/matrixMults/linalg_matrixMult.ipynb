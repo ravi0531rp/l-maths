{
 "cells": [
  {
   "cell_type": "code",
   "execution_count": 1,
   "metadata": {},
   "outputs": [],
   "source": [
    "import numpy as np\n",
    "import matplotlib.pyplot as plt\n",
    "import math"
   ]
  },
  {
   "cell_type": "markdown",
   "metadata": {},
   "source": [
    "\n",
    "---\n",
    "# Standard matrix multiplication, parts 1 & 2\n",
    "---\n"
   ]
  },
  {
   "cell_type": "code",
   "execution_count": 7,
   "metadata": {},
   "outputs": [
    {
     "name": "stdout",
     "output_type": "stream",
     "text": [
      "[[-0.38867984 -1.57638296  2.30966709  0.05581117  1.73908518  0.66729603]\n",
      " [ 7.49661801  0.48767211 -0.39838437 -2.28042886 -2.19037486 -4.56858814]\n",
      " [-6.03711142  6.30241128  3.41885537  0.68546906  0.95174032  3.98321671]]\n",
      "[[6.15732066 1.81168177 0.91649902]\n",
      " [1.81168177 9.10454135 0.50519341]\n",
      " [0.91649902 0.50519341 1.5788968 ]]\n",
      "[[ 1.63316082  0.58752239  0.87900426  1.3289928  -1.93716053 -1.20226584]\n",
      " [ 0.58752239  1.02779315  0.88259227 -0.4045064   0.90402277  0.372839  ]\n",
      " [ 0.87900426  0.88259227  4.68302111  0.7804661   0.31732411  0.80322763]\n",
      " [ 1.3289928  -0.4045064   0.7804661   2.15584943 -3.2627748  -1.69072334]\n",
      " [-1.93716053  0.90402277  0.31732411 -3.2627748   5.45318296  3.06347968]\n",
      " [-1.20226584  0.372839    0.80322763 -1.69072334  3.06347968  1.88775134]]\n",
      "[[ 0.06359745 -0.83025985  0.14083667]\n",
      " [-2.64361679 -7.20401299 -2.51841184]\n",
      " [ 1.76288225 -2.4785126   2.66842111]\n",
      " [-2.23712775  2.82298479 -0.0221083 ]]\n"
     ]
    }
   ],
   "source": [
    "## rules for multiplication validity\n",
    "\n",
    "m = 4\n",
    "n = 3\n",
    "k = 6\n",
    "\n",
    "# make some matrices\n",
    "A = np.random.randn(m,n)\n",
    "B = np.random.randn(n,k)\n",
    "C = np.random.randn(m,k)\n",
    "\n",
    "# test which multiplications are valid.\n",
    "# Think of your answer first, then test.\n",
    "#np.matmul(A,B)\n",
    "#np.matmul(A,A)\n",
    "print(np.matmul(A.T,C))\n",
    "print(np.matmul(B,B.T))\n",
    "print(np.matmul(np.matrix.transpose(B),B))\n",
    "#np.matmul(B,C)\n",
    "#np.matmul(C,B)\n",
    "#np.matmul(C.T,B)\n",
    "print(np.matmul(C,B.T))"
   ]
  },
  {
   "cell_type": "markdown",
   "metadata": {},
   "source": [
    "\n",
    "---\n",
    "# Order-of-operations on matrices\n",
    "---\n"
   ]
  },
  {
   "cell_type": "code",
   "execution_count": 11,
   "metadata": {},
   "outputs": [
    {
     "data": {
      "text/plain": [
       "array([[0, 0, 0, 0, 0, 0, 0],\n",
       "       [0, 0, 0, 0, 0, 0, 0],\n",
       "       [0, 0, 0, 0, 0, 0, 0],\n",
       "       [0, 0, 0, 0, 0, 0, 0],\n",
       "       [0, 0, 0, 0, 0, 0, 0],\n",
       "       [0, 0, 0, 0, 0, 0, 0],\n",
       "       [0, 0, 0, 0, 0, 0, 0]], dtype=uint8)"
      ]
     },
     "execution_count": 11,
     "metadata": {},
     "output_type": "execute_result"
    }
   ],
   "source": [
    "\n",
    "n = 7\n",
    "L = np.random.randn(n,n)\n",
    "I = np.random.randn(n,n)\n",
    "V = np.random.randn(n,n)\n",
    "E = np.random.randn(n,n)\n",
    "\n",
    "# result of \"forward\" multiplication and then transpose\n",
    "res1 = np.matrix.transpose( L @ I @ V @ E )\n",
    "\n",
    "# result of \"flipped\" multiplication of transposed matrices\n",
    "res2 = E.T @ V.T @ I.T @ L.T\n",
    "\n",
    "# test equality by subtracting (ignore possible computer rounding errors)\n",
    "np.array(res1-res2, dtype = np.uint8) # can ignore rounding errors by using this method...."
   ]
  },
  {
   "cell_type": "code",
   "execution_count": 14,
   "metadata": {},
   "outputs": [],
   "source": [
    "a = np.array([\n",
    "                [2,3,3],\n",
    "                [3,4,5]\n",
    "            ])\n",
    "b = np.array([\n",
    "                [2,3],\n",
    "                [3,4],\n",
    "                [1,33]\n",
    "            ])"
   ]
  },
  {
   "cell_type": "code",
   "execution_count": 15,
   "metadata": {},
   "outputs": [
    {
     "data": {
      "text/plain": [
       "array([[ 16, 117],\n",
       "       [ 23, 190]])"
      ]
     },
     "execution_count": 15,
     "metadata": {},
     "output_type": "execute_result"
    }
   ],
   "source": [
    "np.matmul(a,b)"
   ]
  },
  {
   "cell_type": "code",
   "execution_count": 16,
   "metadata": {},
   "outputs": [
    {
     "data": {
      "text/plain": [
       "array([[ 16, 117],\n",
       "       [ 23, 190]])"
      ]
     },
     "execution_count": 16,
     "metadata": {},
     "output_type": "execute_result"
    }
   ],
   "source": [
    "a@b"
   ]
  },
  {
   "cell_type": "markdown",
   "metadata": {},
   "source": [
    "\n",
    "---\n",
    "# Matrix-vector multiplication\n",
    "---\n"
   ]
  },
  {
   "cell_type": "code",
   "execution_count": 18,
   "metadata": {},
   "outputs": [
    {
     "name": "stdout",
     "output_type": "stream",
     "text": [
      "[-4. -5.  8.  1.]\n",
      "[-4. -5.  8.  1.]\n",
      "[-4. -5.  8.  1.]\n",
      "[-4. -5.  8.  1.]\n",
      "[-4. -5.  8.  1.]\n",
      "---------------------------------\n",
      "[ 16  -5 -28  -9]\n",
      "[ -6 -30 -24 -22]\n",
      "[ -6 -30 -24 -22]\n",
      "[ 16  -5 -28  -9]\n",
      "[ -6 -30 -24 -22]\n"
     ]
    }
   ],
   "source": [
    "\n",
    "# number of elements\n",
    "m = 4\n",
    "\n",
    "# create matrices\n",
    "N = np.random.randint(-10,11,(m,m))\n",
    "S = np.round( N.T*N / m**2 ) # scaled symmetric\n",
    "\n",
    "# and vector\n",
    "w = np.array([-1, 0, 1, 2])\n",
    "\n",
    "# with symmetric matrix\n",
    "print( S@w )     # 1\n",
    "print( S.T@w )   # 2\n",
    "print( w@S )     # 3\n",
    "print( w.T@S.T ) # 4\n",
    "print( w.T@S )   # 5\n",
    "\n",
    "print(\"---------------------------------\")\n",
    "\n",
    "# with nonsymmetric matrix\n",
    "print( N@w )     # 1\n",
    "print( N.T@w )   # 2\n",
    "print( w@N )     # 3\n",
    "print( w.T@N.T ) # 4\n",
    "print( w.T@N )   # 5\n"
   ]
  },
  {
   "cell_type": "markdown",
   "metadata": {},
   "source": [
    "\n",
    "---\n",
    "# transformation matrices\n",
    "---\n"
   ]
  },
  {
   "cell_type": "code",
   "execution_count": 19,
   "metadata": {},
   "outputs": [
    {
     "data": {
      "image/png": "[encoded data removed]",
      "text/plain": [
       "<Figure size 432x288 with 1 Axes>"
      ]
     },
     "metadata": {
      "needs_background": "light"
     },
     "output_type": "display_data"
    }
   ],
   "source": [
    "# 2D input vector\n",
    "v = np.array([ 3, -2 ])\n",
    "\n",
    "# 2x2 transformation matrix\n",
    "A = np.array([ [1,-1], [2,1] ])\n",
    "\n",
    "# output vector is Av (convert v to column)\n",
    "w = A@np.matrix.transpose(v)\n",
    "\n",
    "\n",
    "# plot them\n",
    "plt.plot([0,v[0]],[0,v[1]],label='v')\n",
    "plt.plot([0,w[0]],[0,w[1]],label='Av')\n",
    "\n",
    "plt.grid()\n",
    "plt.axis((-6, 6, -6, 6))\n",
    "plt.legend()\n",
    "plt.title('Rotation + stretching')\n",
    "plt.show()"
   ]
  },
  {
   "cell_type": "code",
   "execution_count": 21,
   "metadata": {},
   "outputs": [
    {
     "data": {
      "text/plain": [
       "0.6544984694978736"
      ]
     },
     "execution_count": 21,
     "metadata": {},
     "output_type": "execute_result"
    }
   ],
   "source": [
    "5*np.pi/24"
   ]
  },
  {
   "cell_type": "code",
   "execution_count": 24,
   "metadata": {},
   "outputs": [
    {
     "name": "stdout",
     "output_type": "stream",
     "text": [
      "3.6055512754639896\n",
      "3.605551275463989\n",
      "===================================\n"
     ]
    },
    {
     "data": {
      "image/png": "[encoded data removed]",
      "text/plain": [
       "<Figure size 432x288 with 1 Axes>"
      ]
     },
     "metadata": {
      "needs_background": "light"
     },
     "output_type": "display_data"
    }
   ],
   "source": [
    "## pure rotation\n",
    "\n",
    "# 2D input vector\n",
    "v = np.array([ 3, -2 ])\n",
    "\n",
    "# 2x2 rotation matrix\n",
    "th = 5*np.pi/24\n",
    "A = np.array([ [math.cos(th),-math.sin(th)], [math.sin(th),math.cos(th)] ])\n",
    "\n",
    "# output vector is Av (convert v to column)\n",
    "w = A@np.matrix.transpose(v)\n",
    "\n",
    "print(np.linalg.norm(w))\n",
    "print(np.linalg.norm(v))\n",
    "\n",
    "print(\"===================================\")\n",
    "# plot them\n",
    "plt.plot([0,v[0]],[0,v[1]],label='v')\n",
    "plt.plot([0,w[0]],[0,w[1]],label='Av')\n",
    "\n",
    "plt.grid()\n",
    "plt.axis((-4, 4, -4, 4))\n",
    "plt.legend()\n",
    "plt.title('Pure rotation')\n",
    "plt.show()"
   ]
  },
  {
   "cell_type": "markdown",
   "metadata": {},
   "source": [
    "\n",
    "---\n",
    "#  Additive and multiplicative matrix identities\n",
    "---\n"
   ]
  },
  {
   "cell_type": "code",
   "execution_count": 23,
   "metadata": {},
   "outputs": [
    {
     "name": "stdout",
     "output_type": "stream",
     "text": [
      "True\n",
      "True\n",
      "False\n",
      "False\n",
      "True\n"
     ]
    }
   ],
   "source": [
    "# size of matrices\n",
    "n = 4\n",
    "\n",
    "# create the matrices\n",
    "A = np.round( 10*np.random.randn(n,n) )\n",
    "I = np.eye(n)\n",
    "Z = np.zeros((n,n))\n",
    "\n",
    "# test both identities\n",
    "print(np.array_equal( A@I , A   ))\n",
    "print(np.array_equal( A   , A@I ))\n",
    "print(np.array_equal( A   , A+I ))\n",
    "\n",
    "print(np.array_equal( A   , A+I ))\n",
    "print(np.array_equal( A+Z , A@I ))\n"
   ]
  },
  {
   "cell_type": "markdown",
   "metadata": {},
   "source": [
    "\n",
    "---\n",
    "# Additive and multiplicative symmetric matrices\n",
    "---\n"
   ]
  },
  {
   "cell_type": "code",
   "execution_count": 25,
   "metadata": {},
   "outputs": [
    {
     "name": "stdout",
     "output_type": "stream",
     "text": [
      "[[0. 0. 0. 0. 0.]\n",
      " [0. 0. 0. 0. 0.]\n",
      " [0. 0. 0. 0. 0.]\n",
      " [0. 0. 0. 0. 0.]\n",
      " [0. 0. 0. 0. 0.]]\n"
     ]
    }
   ],
   "source": [
    "## the additive method\n",
    "\n",
    "# specify sizes\n",
    "m = 5\n",
    "n = 5\n",
    "\n",
    "# create matrices\n",
    "A = np.random.randn(m,n)\n",
    "S = ( A + A.T )/2\n",
    "\n",
    "# A symmetric matrix minus its transpose should be all zeros\n",
    "print( S-S.T )\n"
   ]
  },
  {
   "cell_type": "code",
   "execution_count": 27,
   "metadata": {},
   "outputs": [
    {
     "name": "stdout",
     "output_type": "stream",
     "text": [
      "(3, 3)\n",
      "(5, 5)\n",
      "[[0. 0. 0.]\n",
      " [0. 0. 0.]\n",
      " [0. 0. 0.]]\n",
      "[[0. 0. 0. 0. 0.]\n",
      " [0. 0. 0. 0. 0.]\n",
      " [0. 0. 0. 0. 0.]\n",
      " [0. 0. 0. 0. 0.]\n",
      " [0. 0. 0. 0. 0.]]\n"
     ]
    }
   ],
   "source": [
    "## the multiplicative method\n",
    "\n",
    "# specify sizes\n",
    "m = 5\n",
    "n = 3\n",
    "\n",
    "# create matrices\n",
    "A   = np.random.randn(m,n)\n",
    "AtA = A.T@A\n",
    "AAt = A@A.T\n",
    "\n",
    "# first, show that they are square\n",
    "print( AtA.shape )\n",
    "print( AAt.shape )\n",
    "\n",
    "\n",
    "# next, show that they are symmetric\n",
    "print( AtA - AtA.T )\n",
    "print( AAt - AAt.T )\n",
    "\n"
   ]
  },
  {
   "cell_type": "markdown",
   "metadata": {},
   "source": [
    "\n",
    "---\n",
    "#  Element-wise (Hadamard) multiplication\n",
    "---\n"
   ]
  },
  {
   "cell_type": "code",
   "execution_count": 28,
   "metadata": {},
   "outputs": [
    {
     "name": "stdout",
     "output_type": "stream",
     "text": [
      "[[ 0.22448463  0.55503295]\n",
      " [-0.02160163 -2.41216847]\n",
      " [ 2.95287279  2.21381063]\n",
      " [ 1.2725879   0.73322528]\n",
      " [-0.05101979 -0.2876325 ]\n",
      " [ 0.6826865  -0.45117272]\n",
      " [ 0.69469726 -0.2547438 ]\n",
      " [-0.77382361  0.20955455]\n",
      " [ 0.48951418 -0.93979998]\n",
      " [-0.46025285 -0.18943056]\n",
      " [-0.12635075  0.65314363]\n",
      " [ 0.07691758  0.90497084]\n",
      " [ 0.17770922  0.17053548]]\n",
      " \n",
      "[[ 0.22448463  0.55503295]\n",
      " [-0.02160163 -2.41216847]\n",
      " [ 2.95287279  2.21381063]\n",
      " [ 1.2725879   0.73322528]\n",
      " [-0.05101979 -0.2876325 ]\n",
      " [ 0.6826865  -0.45117272]\n",
      " [ 0.69469726 -0.2547438 ]\n",
      " [-0.77382361  0.20955455]\n",
      " [ 0.48951418 -0.93979998]\n",
      " [-0.46025285 -0.18943056]\n",
      " [-0.12635075  0.65314363]\n",
      " [ 0.07691758  0.90497084]\n",
      " [ 0.17770922  0.17053548]]\n",
      " \n",
      "[[0. 0.]\n",
      " [0. 0.]\n",
      " [0. 0.]\n",
      " [0. 0.]\n",
      " [0. 0.]\n",
      " [0. 0.]\n",
      " [0. 0.]\n",
      " [0. 0.]\n",
      " [0. 0.]\n",
      " [0. 0.]\n",
      " [0. 0.]\n",
      " [0. 0.]\n",
      " [0. 0.]]\n"
     ]
    }
   ],
   "source": [
    "# any matrix sizes\n",
    "m = 13\n",
    "n =  2\n",
    "\n",
    "# ...but the two matrices must be the same size\n",
    "A = np.random.randn(m,n)\n",
    "B = np.random.randn(m,n)\n",
    "\n",
    "# note the different syntax compared to @ for matrix multiplication\n",
    "C1 = np.multiply( A,B )\n",
    "C2 = A*B\n",
    "\n",
    "print(C1), print(' ')\n",
    "print(C2), print(' ')\n",
    "\n",
    "print(C1-C2)\n"
   ]
  },
  {
   "cell_type": "markdown",
   "metadata": {},
   "source": [
    "\n",
    "---\n",
    "#  Multiplication of two symmetric matrices\n",
    "---\n"
   ]
  },
  {
   "cell_type": "code",
   "execution_count": 29,
   "metadata": {},
   "outputs": [
    {
     "name": "stdout",
     "output_type": "stream",
     "text": [
      "Matrix([[0, 0, 0, 0], [0, 0, 0, 0], [0, 0, 0, 0], [0, 0, 0, 0]])\n",
      "Matrix([[0, 0, 0, 0], [0, 0, 0, 0], [0, 0, 0, 0], [0, 0, 0, 0]])\n",
      "---------------------------------\n",
      "a\n",
      "a\n",
      "a\n",
      "a\n",
      "l\n",
      "l\n",
      "l\n",
      "l\n"
     ]
    }
   ],
   "source": [
    "# using the sympy library\n",
    "from sympy import *\n",
    "\n",
    "a,b,c,d,e,f,g,h,k,l,m,n,o,p,q,r,s,t,u = symbols('a b c d e f g h k l m n o p q r s t u', real=True)\n",
    "\n",
    "# symmetric and constant-diagonal matrices\n",
    "A = Matrix([ [a,b,c,d],\n",
    "             [b,a,e,f],\n",
    "             [c,e,a,h],\n",
    "             [d,f,h,a]   ])\n",
    "\n",
    "B = Matrix([ [l,m,n,o],\n",
    "             [m,l,q,r],\n",
    "             [n,q,l,t],\n",
    "             [o,r,t,l]   ])\n",
    "\n",
    "\n",
    "# confirmation that A and B are symmetric\n",
    "print( A - A.transpose() )\n",
    "print( B - B.transpose() )\n",
    "\n",
    "print(\"---------------------------------\")\n",
    "# ... and constant diagonal\n",
    "for i in range(0,np.size(A,0)):\n",
    "    print( A[i,i] )\n",
    "for i in range(0,np.size(B,0)):\n",
    "    print( B[i,i] )\n"
   ]
  },
  {
   "cell_type": "code",
   "execution_count": 32,
   "metadata": {},
   "outputs": [
    {
     "name": "stdout",
     "output_type": "stream",
     "text": [
      "Matrix([[0, c*q + d*r - e*n - f*o, b*q + d*t - e*m - h*o, b*r + c*t - f*m - h*n], [-c*q - d*r + e*n + f*o, 0, b*n - c*m + f*t - h*r, b*o - d*m + e*t - h*q], [-b*q - d*t + e*m + h*o, -b*n + c*m - f*t + h*r, 0, c*o - d*n + e*r - f*q], [-b*r - c*t + f*m + h*n, -b*o + d*m - e*t + h*q, -c*o + d*n - e*r + f*q, 0]])\n"
     ]
    },
    {
     "data": {
      "text/latex": [
       "$\\displaystyle \\left[\\begin{matrix}0 & c q - e n & b q - e m\\\\- c q + e n & 0 & b n - c m\\\\- b q + e m & - b n + c m & 0\\end{matrix}\\right]$"
      ],
      "text/plain": [
       "⎡    0       c⋅q - e⋅n   b⋅q - e⋅m⎤\n",
       "⎢                                 ⎥\n",
       "⎢-c⋅q + e⋅n      0       b⋅n - c⋅m⎥\n",
       "⎢                                 ⎥\n",
       "⎣-b⋅q + e⋅m  -b⋅n + c⋅m      0    ⎦"
      ]
     },
     "execution_count": 32,
     "metadata": {},
     "output_type": "execute_result"
    }
   ],
   "source": [
    "# nice printing in sympy\n",
    "init_printing()\n",
    "\n",
    "# but AB neq (AB)'\n",
    "print(A@B - (A@B).T)\n",
    "\n",
    "# maybe for a submatrix?\n",
    "n = 3\n",
    "A1 = A[ 0:n,0:n ]\n",
    "B1 = B[ 0:n,0:n ]\n",
    "\n",
    "A1@B1 - (A1@B1).T"
   ]
  },
  {
   "cell_type": "markdown",
   "metadata": {},
   "source": [
    "\n",
    "---\n",
    "#  Frobenius dot-product\n",
    "---\n"
   ]
  },
  {
   "cell_type": "code",
   "execution_count": 33,
   "metadata": {},
   "outputs": [
    {
     "name": "stdout",
     "output_type": "stream",
     "text": [
      "0.4120485638420308\n",
      "0.4120485638420306\n"
     ]
    }
   ],
   "source": [
    "# any matrix sizes\n",
    "m = 9\n",
    "n = 4\n",
    "\n",
    "# but the two matrices must be the same size\n",
    "A = np.random.randn(m,n)\n",
    "B = np.random.randn(m,n)\n",
    "\n",
    "# first vectorize, then vector-dot-product\n",
    "Av = np.reshape( A,m*n, order='F' ) # order='F' reshapes by columns instead of by rows\n",
    "Bv = np.reshape( B,m*n, order='F' )\n",
    "frob_dp = np.dot( Av,Bv )\n",
    "\n",
    "# trace method\n",
    "frob_dp2 = np.trace( A.T@B )\n",
    "print(frob_dp2)\n",
    "print(frob_dp)\n",
    "\n",
    "# matrix norm\n",
    "Anorm  = np.linalg.norm(A,'fro')\n",
    "Anorm2 = np.sqrt( np.trace( A.T@A ) )\n",
    "# print(Anorm)\n",
    "# print(Anorm2)"
   ]
  },
  {
   "cell_type": "markdown",
   "metadata": {},
   "source": [
    "#  Matrix norms"
   ]
  },
  {
   "cell_type": "code",
   "execution_count": 34,
   "metadata": {},
   "outputs": [
    {
     "name": "stdout",
     "output_type": "stream",
     "text": [
      "16.431676725154983 16.431676725154986 16.392007827749776\n"
     ]
    }
   ],
   "source": [
    "# Create a matrix\n",
    "A = np.array([ [1,2,3], [4,5,6], [7,7,9] ])\n",
    "\n",
    "# optional orthogonal matrix to show that 2-norm is 1\n",
    "Q,R = np.linalg.qr(np.random.randn(5,5))\n",
    "# A = Q\n",
    "\n",
    "# Frobenius norm\n",
    "normFrob = np.linalg.norm(A,'fro')\n",
    "\n",
    "# induced 2-norm\n",
    "normInd2 = np.linalg.norm(A,2)\n",
    "# note: computed as below\n",
    "lamb = np.sqrt( np.max(np.linalg.eig(A.T@A)[0]) )\n",
    "\n",
    "# schatten p-norm\n",
    "p = 2\n",
    "s = np.linalg.svd(A)[1] # get singular values\n",
    "normSchat = np.sum(s**p)**(1/p)\n",
    "\n",
    "\n",
    "# % show all norms for comparison\n",
    "print(normFrob,normSchat,normInd2)\n"
   ]
  },
  {
   "cell_type": "code",
   "execution_count": null,
   "metadata": {},
   "outputs": [],
   "source": []
  }
 ],
 "metadata": {
  "kernelspec": {
   "display_name": "Python 3",
   "language": "python",
   "name": "python3"
  },
  "language_info": {
   "codemirror_mode": {
    "name": "ipython",
    "version": 3
   },
   "file_extension": ".py",
   "mimetype": "text/x-python",
   "name": "python",
   "nbconvert_exporter": "python",
   "pygments_lexer": "ipython3",
   "version": "3.6.10"
  }
 },
 "nbformat": 4,
 "nbformat_minor": 2
}
