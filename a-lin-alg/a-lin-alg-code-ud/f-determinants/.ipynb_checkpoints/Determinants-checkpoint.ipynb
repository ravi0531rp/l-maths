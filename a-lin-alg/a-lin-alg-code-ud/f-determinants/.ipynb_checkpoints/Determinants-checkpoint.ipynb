{
 "cells": [
  {
   "cell_type": "code",
   "execution_count": 1,
   "metadata": {},
   "outputs": [],
   "source": [
    "import numpy as np"
   ]
  },
  {
   "cell_type": "code",
   "execution_count": 23,
   "metadata": {},
   "outputs": [],
   "source": [
    "X = np.random.randn(5,5)"
   ]
  },
  {
   "cell_type": "code",
   "execution_count": 24,
   "metadata": {},
   "outputs": [
    {
     "data": {
      "text/plain": [
       "array([[ 0.77358177, -0.35787505,  1.00764839, -0.72983847,  0.29508534],\n",
       "       [-0.70412617,  0.31064395, -0.10922101, -0.94060063, -0.3992633 ],\n",
       "       [ 0.7477844 ,  1.23862846, -0.29087281,  1.62087528, -0.94237801],\n",
       "       [ 1.83853557, -1.07213982,  0.09514373,  0.11578281, -0.54756757],\n",
       "       [-0.73354102,  0.6587024 ,  1.12192683,  1.16818994,  0.37710398]])"
      ]
     },
     "execution_count": 24,
     "metadata": {},
     "output_type": "execute_result"
    }
   ],
   "source": [
    "X"
   ]
  },
  {
   "cell_type": "code",
   "execution_count": 25,
   "metadata": {},
   "outputs": [
    {
     "data": {
      "text/plain": [
       "-4.90126802091542"
      ]
     },
     "execution_count": 25,
     "metadata": {},
     "output_type": "execute_result"
    }
   ],
   "source": [
    "np.linalg.det(X)"
   ]
  },
  {
   "cell_type": "code",
   "execution_count": 26,
   "metadata": {},
   "outputs": [],
   "source": [
    "v = X[-1,:]"
   ]
  },
  {
   "cell_type": "code",
   "execution_count": 27,
   "metadata": {},
   "outputs": [
    {
     "data": {
      "text/plain": [
       "array([-0.73354102,  0.6587024 ,  1.12192683,  1.16818994,  0.37710398])"
      ]
     },
     "execution_count": 27,
     "metadata": {},
     "output_type": "execute_result"
    }
   ],
   "source": [
    "v"
   ]
  },
  {
   "cell_type": "code",
   "execution_count": 28,
   "metadata": {},
   "outputs": [],
   "source": [
    "X[:,-1] = X[:,-2]"
   ]
  },
  {
   "cell_type": "code",
   "execution_count": 29,
   "metadata": {},
   "outputs": [
    {
     "data": {
      "text/plain": [
       "array([[ 0.77358177, -0.35787505,  1.00764839, -0.72983847, -0.72983847],\n",
       "       [-0.70412617,  0.31064395, -0.10922101, -0.94060063, -0.94060063],\n",
       "       [ 0.7477844 ,  1.23862846, -0.29087281,  1.62087528,  1.62087528],\n",
       "       [ 1.83853557, -1.07213982,  0.09514373,  0.11578281,  0.11578281],\n",
       "       [-0.73354102,  0.6587024 ,  1.12192683,  1.16818994,  1.16818994]])"
      ]
     },
     "execution_count": 29,
     "metadata": {},
     "output_type": "execute_result"
    }
   ],
   "source": [
    "X"
   ]
  },
  {
   "cell_type": "code",
   "execution_count": 30,
   "metadata": {},
   "outputs": [
    {
     "data": {
      "text/plain": [
       "-0.0"
      ]
     },
     "execution_count": 30,
     "metadata": {},
     "output_type": "execute_result"
    }
   ],
   "source": [
    "np.round(np.linalg.det(X))"
   ]
  },
  {
   "cell_type": "markdown",
   "metadata": {},
   "source": [
    "## Swapping Rows"
   ]
  },
  {
   "cell_type": "code",
   "execution_count": 31,
   "metadata": {},
   "outputs": [],
   "source": [
    "v = np.random.randn(1,5)"
   ]
  },
  {
   "cell_type": "code",
   "execution_count": 32,
   "metadata": {},
   "outputs": [],
   "source": [
    "X[:,-1] = v"
   ]
  },
  {
   "cell_type": "code",
   "execution_count": 33,
   "metadata": {},
   "outputs": [
    {
     "data": {
      "text/plain": [
       "array([[ 0.77358177, -0.35787505,  1.00764839, -0.72983847, -0.16140774],\n",
       "       [-0.70412617,  0.31064395, -0.10922101, -0.94060063,  1.07518168],\n",
       "       [ 0.7477844 ,  1.23862846, -0.29087281,  1.62087528, -1.45380214],\n",
       "       [ 1.83853557, -1.07213982,  0.09514373,  0.11578281,  0.49610478],\n",
       "       [-0.73354102,  0.6587024 ,  1.12192683,  1.16818994,  0.57131252]])"
      ]
     },
     "execution_count": 33,
     "metadata": {},
     "output_type": "execute_result"
    }
   ],
   "source": [
    "X"
   ]
  },
  {
   "cell_type": "code",
   "execution_count": 34,
   "metadata": {},
   "outputs": [
    {
     "data": {
      "text/plain": [
       "11.0"
      ]
     },
     "execution_count": 34,
     "metadata": {},
     "output_type": "execute_result"
    }
   ],
   "source": [
    "np.round(np.linalg.det(X))"
   ]
  },
  {
   "cell_type": "code",
   "execution_count": 44,
   "metadata": {},
   "outputs": [],
   "source": [
    "X = np.array([[ 0.77358177, -0.35787505,  1.00764839, -0.72983847, -0.16140774],\n",
    "       [-0.70412617,  0.31064395, -0.10922101, -0.94060063,  1.07518168],\n",
    "       [ 0.7477844 ,  1.23862846, -0.29087281,  1.62087528, -1.45380214],\n",
    "       [ 1.83853557, -1.07213982,  0.09514373,  0.11578281,  0.49610478],\n",
    "       [-0.73354102,  0.6587024 ,  1.12192683,  1.16818994,  0.57131252]])"
   ]
  },
  {
   "cell_type": "code",
   "execution_count": 45,
   "metadata": {},
   "outputs": [
    {
     "data": {
      "text/plain": [
       "array([[ 0.77358177, -0.35787505,  1.00764839, -0.72983847, -0.16140774],\n",
       "       [-0.70412617,  0.31064395, -0.10922101, -0.94060063,  1.07518168],\n",
       "       [ 0.7477844 ,  1.23862846, -0.29087281,  1.62087528, -1.45380214],\n",
       "       [ 1.83853557, -1.07213982,  0.09514373,  0.11578281,  0.49610478],\n",
       "       [-0.73354102,  0.6587024 ,  1.12192683,  1.16818994,  0.57131252]])"
      ]
     },
     "execution_count": 45,
     "metadata": {},
     "output_type": "execute_result"
    }
   ],
   "source": [
    "X"
   ]
  },
  {
   "cell_type": "code",
   "execution_count": 46,
   "metadata": {},
   "outputs": [],
   "source": [
    "Y = np.array([[ 0.77358177, -0.35787505,  1.00764839, -0.72983847, -0.16140774],\n",
    "       [-0.70412617,  0.31064395, -0.10922101, -0.94060063,  1.07518168],\n",
    "       [ 1.83853557, -1.07213982,  0.09514373,  0.11578281,  0.49610478],\n",
    "       [ 0.7477844 ,  1.23862846, -0.29087281,  1.62087528, -1.45380214],\n",
    "       [-0.73354102,  0.6587024 ,  1.12192683,  1.16818994,  0.57131252]])"
   ]
  },
  {
   "cell_type": "code",
   "execution_count": 47,
   "metadata": {},
   "outputs": [
    {
     "data": {
      "text/plain": [
       "10.70520139840758"
      ]
     },
     "execution_count": 47,
     "metadata": {},
     "output_type": "execute_result"
    }
   ],
   "source": [
    "np.linalg.det(X)"
   ]
  },
  {
   "cell_type": "code",
   "execution_count": 48,
   "metadata": {},
   "outputs": [
    {
     "data": {
      "text/plain": [
       "-10.70520139840758"
      ]
     },
     "execution_count": 48,
     "metadata": {},
     "output_type": "execute_result"
    }
   ],
   "source": [
    "np.linalg.det(Y)"
   ]
  },
  {
   "cell_type": "markdown",
   "metadata": {},
   "source": [
    "## Shifted Det"
   ]
  },
  {
   "cell_type": "code",
   "execution_count": 49,
   "metadata": {},
   "outputs": [],
   "source": [
    "XShifted = X + np.eye(5,5)"
   ]
  },
  {
   "cell_type": "code",
   "execution_count": 50,
   "metadata": {},
   "outputs": [
    {
     "data": {
      "text/plain": [
       "array([[ 1.77358177, -0.35787505,  1.00764839, -0.72983847, -0.16140774],\n",
       "       [-0.70412617,  1.31064395, -0.10922101, -0.94060063,  1.07518168],\n",
       "       [ 0.7477844 ,  1.23862846,  0.70912719,  1.62087528, -1.45380214],\n",
       "       [ 1.83853557, -1.07213982,  0.09514373,  1.11578281,  0.49610478],\n",
       "       [-0.73354102,  0.6587024 ,  1.12192683,  1.16818994,  1.57131252]])"
      ]
     },
     "execution_count": 50,
     "metadata": {},
     "output_type": "execute_result"
    }
   ],
   "source": [
    "XShifted"
   ]
  },
  {
   "cell_type": "code",
   "execution_count": 51,
   "metadata": {},
   "outputs": [
    {
     "data": {
      "text/plain": [
       "32.887236993457584"
      ]
     },
     "execution_count": 51,
     "metadata": {},
     "output_type": "execute_result"
    }
   ],
   "source": [
    "np.linalg.det(XShifted)"
   ]
  },
  {
   "cell_type": "code",
   "execution_count": null,
   "metadata": {},
   "outputs": [],
   "source": []
  }
 ],
 "metadata": {
  "kernelspec": {
   "display_name": "Python 3",
   "language": "python",
   "name": "python3"
  },
  "language_info": {
   "codemirror_mode": {
    "name": "ipython",
    "version": 3
   },
   "file_extension": ".py",
   "mimetype": "text/x-python",
   "name": "python",
   "nbconvert_exporter": "python",
   "pygments_lexer": "ipython3",
   "version": "3.6.10"
  }
 },
 "nbformat": 4,
 "nbformat_minor": 4
}
